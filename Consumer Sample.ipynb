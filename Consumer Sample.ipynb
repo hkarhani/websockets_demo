{
 "cells": [
  {
   "cell_type": "code",
   "execution_count": null,
   "metadata": {},
   "outputs": [],
   "source": [
    "import nest_asyncio\n",
    "nest_asyncio.apply()"
   ]
  },
  {
   "cell_type": "code",
   "execution_count": null,
   "metadata": {},
   "outputs": [],
   "source": [
    "import asyncio\n",
    "import websockets\n",
    "import logging\n",
    "import socket\n",
    "from websockets import WebSocketClientProtocol\n",
    "\n",
    "logging.basicConfig(level=logging.INFO)\n",
    "\n",
    "async def consumer_handler(ws:WebSocketClientProtocol ) -> None: \n",
    "    async for message in ws: \n",
    "        log_message(message)\n",
    "\n",
    "async def consume(host: str, port:int)->None: \n",
    "    ws_resource_url = f\"ws://{host}:{port}\"\n",
    "    async with websockets.connect(ws_resource_url) as websocket:\n",
    "        await consumer_handler(websocket)\n",
    "            \n",
    "def log_message(message:str)->None: \n",
    "    logging.info(f\"Message: {message}\")"
   ]
  },
  {
   "cell_type": "code",
   "execution_count": null,
   "metadata": {},
   "outputs": [],
   "source": [
    "server_ip = socket.gethostbyname(socket.gethostname())\n",
    "server_port = 5000"
   ]
  },
  {
   "cell_type": "code",
   "execution_count": null,
   "metadata": {},
   "outputs": [],
   "source": [
    "loop = asyncio.get_event_loop()\n",
    "loop.run_until_complete(consume(host = server_ip, port=server_port))"
   ]
  },
  {
   "cell_type": "code",
   "execution_count": null,
   "metadata": {},
   "outputs": [],
   "source": []
  }
 ],
 "metadata": {
  "kernelspec": {
   "display_name": "Python 3",
   "language": "python",
   "name": "python3"
  },
  "language_info": {
   "codemirror_mode": {
    "name": "ipython",
    "version": 3
   },
   "file_extension": ".py",
   "mimetype": "text/x-python",
   "name": "python",
   "nbconvert_exporter": "python",
   "pygments_lexer": "ipython3",
   "version": "3.6.8"
  }
 },
 "nbformat": 4,
 "nbformat_minor": 2
}
